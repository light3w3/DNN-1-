{
  "cells": [
    {
      "cell_type": "markdown",
      "metadata": {
        "id": "view-in-github",
        "colab_type": "text"
      },
      "source": [
        "<a href=\"https://colab.research.google.com/github/light3w3/DNN-1-/blob/main/DNN_%EA%B8%B0%EB%B3%B8%EB%AA%A8%EB%8D%B81%EC%B0%A8.ipynb\" target=\"_parent\"><img src=\"https://colab.research.google.com/assets/colab-badge.svg\" alt=\"Open In Colab\"/></a>"
      ]
    },
    {
      "cell_type": "code",
      "source": [
        "from google.colab import drive\n",
        "drive.mount('/content/drive')"
      ],
      "metadata": {
        "colab": {
          "base_uri": "https://localhost:8080/"
        },
        "id": "yWvaNV2R6fiF",
        "outputId": "32f9e58d-8a46-456b-f5a7-d7209b37e865"
      },
      "execution_count": 5,
      "outputs": [
        {
          "output_type": "stream",
          "name": "stdout",
          "text": [
            "Mounted at /content/drive\n"
          ]
        }
      ]
    },
    {
      "cell_type": "code",
      "source": [
        "# -------------------------------------------\n",
        "# 1. 경로 설정\n",
        "# -------------------------------------------\n",
        "test_audio_path = '/content/drive/MyDrive/2501ml_data/test'\n",
        "test_label_path = '/content/drive/MyDrive/2501ml_data/label/test_label.txt'\n",
        "\n",
        "# -------------------------------------------\n",
        "# 2. test_label.txt 불러오기\n",
        "# -------------------------------------------\n",
        "with open(test_label_path, 'r') as f:\n",
        "    lines = f.readlines()\n",
        "\n",
        "test_data = []\n",
        "for line in lines:\n",
        "    parts = line.strip().split()\n",
        "    if len(parts) >= 5:\n",
        "        speaker_id = parts[0]\n",
        "        filename = parts[1]\n",
        "        label = parts[-1]\n",
        "        test_data.append((filename, label, speaker_id))\n",
        "\n",
        "test_df = pd.DataFrame(test_data, columns=['filename', 'label', 'speaker_id'])\n",
        "\n",
        "# -------------------------------------------\n",
        "# 3. MFCC 평균 추출\n",
        "# -------------------------------------------\n",
        "test_mfcc_list = []\n",
        "test_labels = []\n",
        "\n",
        "for _, row in tqdm(test_df.iterrows(), total=len(test_df)):\n",
        "    filename = row['filename']\n",
        "    label = 0 if row['label'] == 'Real' else 1\n",
        "    file_path = os.path.join(test_audio_path, filename)\n",
        "\n",
        "    if not os.path.isfile(file_path):\n",
        "        print(f\"파일 없음: {filename}\")\n",
        "        continue\n",
        "\n",
        "    try:\n",
        "        y, sr = librosa.load(file_path, sr=16000)\n",
        "        mfcc = librosa.feature.mfcc(y=y, sr=sr, n_mfcc=13)\n",
        "        mfcc_mean = np.mean(mfcc, axis=1)\n",
        "        test_mfcc_list.append(mfcc_mean)\n",
        "        test_labels.append(label)\n",
        "    except Exception as e:\n",
        "        print(f\"Error processing {filename}: {e}\")\n",
        "\n",
        "# -------------------------------------------\n",
        "# 4. 전처리 (train 기준으로 정규화)\n",
        "# -------------------------------------------\n",
        "X_test = StandardScaler().fit_transform(test_mfcc_list)\n",
        "y_test = np.array(test_labels)\n",
        "\n",
        "# -------------------------------------------\n",
        "# 5. 모델 예측 및 평가\n",
        "# -------------------------------------------\n",
        "y_pred = (model.predict(X_test) > 0.5).astype(int)\n",
        "\n",
        "print(\"\\n[✅ Classification Report - TEST DATA]\")\n",
        "print(classification_report(y_test, y_pred))\n",
        "\n",
        "cm = confusion_matrix(y_test, y_pred)\n",
        "sns.heatmap(cm, annot=True, fmt='d', cmap='Blues')\n",
        "plt.xlabel(\"Predicted\")\n",
        "plt.ylabel(\"Actual\")\n",
        "plt.title(\"Confusion Matrix (Test Data)\")\n",
        "plt.show()\n"
      ],
      "metadata": {
        "colab": {
          "base_uri": "https://localhost:8080/",
          "height": 711
        },
        "id": "W5OiJ5o3_3QU",
        "outputId": "07026188-368f-4e20-da20-d0db0d595a85"
      },
      "execution_count": 8,
      "outputs": [
        {
          "output_type": "stream",
          "name": "stderr",
          "text": [
            "100%|██████████| 2000/2000 [09:35<00:00,  3.48it/s]"
          ]
        },
        {
          "output_type": "stream",
          "name": "stdout",
          "text": [
            "\u001b[1m46/63\u001b[0m \u001b[32m━━━━━━━━━━━━━━\u001b[0m\u001b[37m━━━━━━\u001b[0m \u001b[1m0s\u001b[0m 1ms/step "
          ]
        },
        {
          "output_type": "stream",
          "name": "stderr",
          "text": [
            "\n"
          ]
        },
        {
          "output_type": "stream",
          "name": "stdout",
          "text": [
            "\u001b[1m63/63\u001b[0m \u001b[32m━━━━━━━━━━━━━━━━━━━━\u001b[0m\u001b[37m\u001b[0m \u001b[1m0s\u001b[0m 2ms/step\n",
            "\n",
            "[✅ Classification Report - TEST DATA]\n",
            "              precision    recall  f1-score   support\n",
            "\n",
            "           0       0.54      0.89      0.67      1000\n",
            "           1       0.68      0.23      0.34      1000\n",
            "\n",
            "    accuracy                           0.56      2000\n",
            "   macro avg       0.61      0.56      0.51      2000\n",
            "weighted avg       0.61      0.56      0.51      2000\n",
            "\n"
          ]
        },
        {
          "output_type": "display_data",
          "data": {
            "text/plain": [
              "<Figure size 640x480 with 2 Axes>"
            ],
            "image/png": "[encoded data removed]"
          },
          "metadata": {}
        }
      ]
    },
    {
      "cell_type": "code",
      "source": [
        "# -------------------------------------------\n",
        "# 1. 설치 및 라이브러리 로드\n",
        "# -------------------------------------------\n",
        "!pip install umap-learn --quiet\n",
        "\n",
        "import os\n",
        "import numpy as np\n",
        "import librosa\n",
        "import pandas as pd\n",
        "import matplotlib.pyplot as plt\n",
        "import seaborn as sns\n",
        "from tqdm import tqdm\n",
        "from sklearn.metrics import classification_report, confusion_matrix\n",
        "import tensorflow as tf\n",
        "from tensorflow.keras import layers, models\n",
        "\n",
        "# -------------------------------------------\n",
        "# 2. 경로 설정\n",
        "# -------------------------------------------\n",
        "train_audio_path = '/content/drive/MyDrive/2501ml_data/train'\n",
        "train_label_path = '/content/drive/MyDrive/2501ml_data/label/train_label.txt'\n",
        "\n",
        "test_audio_path = '/content/drive/MyDrive/2501ml_data/test'\n",
        "test_label_path = '/content/drive/MyDrive/2501ml_data/label/test_label.txt'\n",
        "\n",
        "# -------------------------------------------\n",
        "# 3. 데이터 로딩 함수 (공통)\n",
        "# -------------------------------------------\n",
        "def load_mfcc_data(audio_path, label_path, max_len=200):\n",
        "    with open(label_path, 'r') as f:\n",
        "        lines = f.readlines()\n",
        "\n",
        "    data = []\n",
        "    for line in lines:\n",
        "        parts = line.strip().split()\n",
        "        if len(parts) >= 5:\n",
        "            speaker_id = parts[0]\n",
        "            filename = parts[1]\n",
        "            label = parts[-1]\n",
        "            data.append((filename, label, speaker_id))\n",
        "\n",
        "    df = pd.DataFrame(data, columns=['filename', 'label', 'speaker_id'])\n",
        "\n",
        "    X_list = []\n",
        "    y_list = []\n",
        "\n",
        "    for _, row in tqdm(df.iterrows(), total=len(df)):\n",
        "        filename = row['filename']\n",
        "        label = 0 if row['label'] == 'Real' else 1\n",
        "        file_path = os.path.join(audio_path, filename)\n",
        "\n",
        "        if not os.path.isfile(file_path):\n",
        "            continue\n",
        "\n",
        "        try:\n",
        "            y, sr = librosa.load(file_path, sr=16000)\n",
        "            mfcc = librosa.feature.mfcc(y=y, sr=sr, n_mfcc=13)\n",
        "            mfcc = mfcc.T  # (T, 13)\n",
        "\n",
        "            if mfcc.shape[0] < max_len:\n",
        "                pad_width = max_len - mfcc.shape[0]\n",
        "                mfcc = np.pad(mfcc, ((0, pad_width), (0, 0)), mode='constant')\n",
        "            else:\n",
        "                mfcc = mfcc[:max_len, :]\n",
        "\n",
        "            X_list.append(mfcc)\n",
        "            y_list.append(label)\n",
        "        except:\n",
        "            continue\n",
        "\n",
        "    return np.array(X_list), np.array(y_list)\n",
        "\n",
        "# -------------------------------------------\n",
        "# 4. 학습 데이터 로딩\n",
        "# -------------------------------------------\n",
        "X_train, y_train = load_mfcc_data(train_audio_path, train_label_path)\n",
        "\n",
        "# -------------------------------------------\n",
        "# 5. CNN 모델 설계\n",
        "# -------------------------------------------\n",
        "max_len = 200\n",
        "\n",
        "model = models.Sequential([\n",
        "    layers.Input(shape=(max_len, 13)),\n",
        "    layers.Conv1D(64, kernel_size=3, activation='relu'),\n",
        "    layers.MaxPooling1D(pool_size=2),\n",
        "    layers.Conv1D(128, kernel_size=3, activation='relu'),\n",
        "    layers.MaxPooling1D(pool_size=2),\n",
        "    layers.Flatten(),\n",
        "    layers.Dense(64, activation='relu'),\n",
        "    layers.Dropout(0.3),\n",
        "    layers.Dense(1, activation='sigmoid')\n",
        "])\n",
        "\n",
        "model.compile(optimizer='adam',\n",
        "              loss='binary_crossentropy',\n",
        "              metrics=['accuracy'])\n",
        "\n",
        "# -------------------------------------------\n",
        "# 6. 모델 학습 (validation 없음)\n",
        "# -------------------------------------------\n",
        "history = model.fit(X_train, y_train,\n",
        "                    epochs=20,\n",
        "                    batch_size=32,\n",
        "                    verbose=1)\n",
        "\n",
        "# -------------------------------------------\n",
        "# 7. 테스트 데이터 로딩\n",
        "# -------------------------------------------\n",
        "X_test, y_test = load_mfcc_data(test_audio_path, test_label_path)\n",
        "\n",
        "# -------------------------------------------\n",
        "# 8. 테스트 데이터 평가\n",
        "# -------------------------------------------\n",
        "print(\"\\n✅ [TEST 평가 결과]\")\n",
        "y_pred = (model.predict(X_test) > 0.5).astype(int)\n",
        "print(classification_report(y_test, y_pred))\n",
        "\n",
        "cm = confusion_matrix(y_test, y_pred)\n",
        "sns.heatmap(cm, annot=True, fmt='d', cmap='Blues')\n",
        "plt.xlabel(\"Predicted\")\n",
        "plt.ylabel(\"Actual\")\n",
        "plt.title(\"Confusion Matrix (TEST DATA)\")\n",
        "plt.show()\n"
      ],
      "metadata": {
        "colab": {
          "base_uri": "https://localhost:8080/",
          "height": 1000
        },
        "id": "ZNxJ558ICVVn",
        "outputId": "ca9a6258-e513-4bb3-b1f8-0542e54fe86d"
      },
      "execution_count": 10,
      "outputs": [
        {
          "output_type": "stream",
          "name": "stderr",
          "text": [
            "100%|██████████| 4000/4000 [01:19<00:00, 50.06it/s]\n"
          ]
        },
        {
          "output_type": "stream",
          "name": "stdout",
          "text": [
            "Epoch 1/20\n",
            "\u001b[1m125/125\u001b[0m \u001b[32m━━━━━━━━━━━━━━━━━━━━\u001b[0m\u001b[37m\u001b[0m \u001b[1m7s\u001b[0m 39ms/step - accuracy: 0.8232 - loss: 5.2901\n",
            "Epoch 2/20\n",
            "\u001b[1m125/125\u001b[0m \u001b[32m━━━━━━━━━━━━━━━━━━━━\u001b[0m\u001b[37m\u001b[0m \u001b[1m3s\u001b[0m 25ms/step - accuracy: 0.9937 - loss: 0.0292\n",
            "Epoch 3/20\n",
            "\u001b[1m125/125\u001b[0m \u001b[32m━━━━━━━━━━━━━━━━━━━━\u001b[0m\u001b[37m\u001b[0m \u001b[1m3s\u001b[0m 25ms/step - accuracy: 0.9897 - loss: 0.0399\n",
            "Epoch 4/20\n",
            "\u001b[1m125/125\u001b[0m \u001b[32m━━━━━━━━━━━━━━━━━━━━\u001b[0m\u001b[37m\u001b[0m \u001b[1m3s\u001b[0m 25ms/step - accuracy: 0.9966 - loss: 0.0149\n",
            "Epoch 5/20\n",
            "\u001b[1m125/125\u001b[0m \u001b[32m━━━━━━━━━━━━━━━━━━━━\u001b[0m\u001b[37m\u001b[0m \u001b[1m6s\u001b[0m 29ms/step - accuracy: 0.9968 - loss: 0.0128\n",
            "Epoch 6/20\n",
            "\u001b[1m125/125\u001b[0m \u001b[32m━━━━━━━━━━━━━━━━━━━━\u001b[0m\u001b[37m\u001b[0m \u001b[1m3s\u001b[0m 25ms/step - accuracy: 0.9967 - loss: 0.0142\n",
            "Epoch 7/20\n",
            "\u001b[1m125/125\u001b[0m \u001b[32m━━━━━━━━━━━━━━━━━━━━\u001b[0m\u001b[37m\u001b[0m \u001b[1m5s\u001b[0m 27ms/step - accuracy: 0.9994 - loss: 0.0056\n",
            "Epoch 8/20\n",
            "\u001b[1m125/125\u001b[0m \u001b[32m━━━━━━━━━━━━━━━━━━━━\u001b[0m\u001b[37m\u001b[0m \u001b[1m5s\u001b[0m 26ms/step - accuracy: 0.9985 - loss: 0.0048\n",
            "Epoch 9/20\n",
            "\u001b[1m125/125\u001b[0m \u001b[32m━━━━━━━━━━━━━━━━━━━━\u001b[0m\u001b[37m\u001b[0m \u001b[1m5s\u001b[0m 25ms/step - accuracy: 0.9976 - loss: 0.0103\n",
            "Epoch 10/20\n",
            "\u001b[1m125/125\u001b[0m \u001b[32m━━━━━━━━━━━━━━━━━━━━\u001b[0m\u001b[37m\u001b[0m \u001b[1m7s\u001b[0m 41ms/step - accuracy: 0.9978 - loss: 0.0058\n",
            "Epoch 11/20\n",
            "\u001b[1m125/125\u001b[0m \u001b[32m━━━━━━━━━━━━━━━━━━━━\u001b[0m\u001b[37m\u001b[0m \u001b[1m3s\u001b[0m 25ms/step - accuracy: 0.9986 - loss: 0.0031\n",
            "Epoch 12/20\n",
            "\u001b[1m125/125\u001b[0m \u001b[32m━━━━━━━━━━━━━━━━━━━━\u001b[0m\u001b[37m\u001b[0m \u001b[1m3s\u001b[0m 25ms/step - accuracy: 0.9991 - loss: 0.0015\n",
            "Epoch 13/20\n",
            "\u001b[1m125/125\u001b[0m \u001b[32m━━━━━━━━━━━━━━━━━━━━\u001b[0m\u001b[37m\u001b[0m \u001b[1m3s\u001b[0m 25ms/step - accuracy: 0.9993 - loss: 0.0035\n",
            "Epoch 14/20\n",
            "\u001b[1m125/125\u001b[0m \u001b[32m━━━━━━━━━━━━━━━━━━━━\u001b[0m\u001b[37m\u001b[0m \u001b[1m6s\u001b[0m 29ms/step - accuracy: 0.9997 - loss: 0.0012\n",
            "Epoch 15/20\n",
            "\u001b[1m125/125\u001b[0m \u001b[32m━━━━━━━━━━━━━━━━━━━━\u001b[0m\u001b[37m\u001b[0m \u001b[1m3s\u001b[0m 25ms/step - accuracy: 0.9900 - loss: 0.0482\n",
            "Epoch 16/20\n",
            "\u001b[1m125/125\u001b[0m \u001b[32m━━━━━━━━━━━━━━━━━━━━\u001b[0m\u001b[37m\u001b[0m \u001b[1m3s\u001b[0m 25ms/step - accuracy: 0.9943 - loss: 0.0230\n",
            "Epoch 17/20\n",
            "\u001b[1m125/125\u001b[0m \u001b[32m━━━━━━━━━━━━━━━━━━━━\u001b[0m\u001b[37m\u001b[0m \u001b[1m6s\u001b[0m 35ms/step - accuracy: 0.9985 - loss: 0.0025\n",
            "Epoch 18/20\n",
            "\u001b[1m125/125\u001b[0m \u001b[32m━━━━━━━━━━━━━━━━━━━━\u001b[0m\u001b[37m\u001b[0m \u001b[1m3s\u001b[0m 25ms/step - accuracy: 0.9997 - loss: 0.0031\n",
            "Epoch 19/20\n",
            "\u001b[1m125/125\u001b[0m \u001b[32m━━━━━━━━━━━━━━━━━━━━\u001b[0m\u001b[37m\u001b[0m \u001b[1m3s\u001b[0m 25ms/step - accuracy: 0.9984 - loss: 0.0066\n",
            "Epoch 20/20\n",
            "\u001b[1m125/125\u001b[0m \u001b[32m━━━━━━━━━━━━━━━━━━━━\u001b[0m\u001b[37m\u001b[0m \u001b[1m7s\u001b[0m 40ms/step - accuracy: 0.9982 - loss: 0.0064\n"
          ]
        },
        {
          "output_type": "stream",
          "name": "stderr",
          "text": [
            "100%|██████████| 2000/2000 [00:38<00:00, 51.60it/s]\n"
          ]
        },
        {
          "output_type": "stream",
          "name": "stdout",
          "text": [
            "\n",
            "✅ [TEST 평가 결과]\n",
            "\u001b[1m63/63\u001b[0m \u001b[32m━━━━━━━━━━━━━━━━━━━━\u001b[0m\u001b[37m\u001b[0m \u001b[1m1s\u001b[0m 14ms/step\n",
            "              precision    recall  f1-score   support\n",
            "\n",
            "           0       0.81      1.00      0.90      1000\n",
            "           1       1.00      0.77      0.87      1000\n",
            "\n",
            "    accuracy                           0.88      2000\n",
            "   macro avg       0.91      0.88      0.88      2000\n",
            "weighted avg       0.91      0.88      0.88      2000\n",
            "\n"
          ]
        },
        {
          "output_type": "display_data",
          "data": {
            "text/plain": [
              "<Figure size 640x480 with 2 Axes>"
            ],
            "image/png": "[encoded data removed]"
          },
          "metadata": {}
        }
      ]
    }
  ],
  "metadata": {
    "colab": {
      "name": "Colab 시작하기",
      "provenance": [],
      "include_colab_link": true
    },
    "kernelspec": {
      "display_name": "Python 3",
      "name": "python3"
    }
  },
  "nbformat": 4,
  "nbformat_minor": 0
}